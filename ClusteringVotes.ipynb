{
  "nbformat": 4,
  "nbformat_minor": 0,
  "metadata": {
    "colab": {
      "name": "ClusteringVotes.ipynb",
      "provenance": [],
      "collapsed_sections": [],
      "authorship_tag": "ABX9TyOiQrTj4Uqfx/xGP/W7CKEX",
      "include_colab_link": true
    },
    "kernelspec": {
      "name": "python3",
      "display_name": "Python 3"
    },
    "language_info": {
      "name": "python"
    }
  },
  "cells": [
    {
      "cell_type": "markdown",
      "metadata": {
        "id": "view-in-github",
        "colab_type": "text"
      },
      "source": [
        "<a href=\"https://colab.research.google.com/github/BenAbramowitz/BenAbramowitz.github.io/blob/main/ClusteringVotes.ipynb\" target=\"_parent\"><img src=\"https://colab.research.google.com/assets/colab-badge.svg\" alt=\"Open In Colab\"/></a>"
      ]
    },
    {
      "cell_type": "markdown",
      "metadata": {
        "id": "OcpAHo2Eu6vr"
      },
      "source": [
        "Need to read in approval profiles from PrefLib. Every approval profile will be stored as a matrix where the rows are the voters and columns are the candidates. The entries are either 0, if a voter does not approve a candidate, or 1 if they do."
      ]
    },
    {
      "cell_type": "code",
      "metadata": {
        "id": "Y7HTsDc7u6A5"
      },
      "source": [
        "#Takes a PrefLib formatted file as input and outputs a matrix representation of a profile of approval votes\n",
        "#Need to import requests\n",
        "def read_profile(filename):\n",
        "  f = open(filename)\n",
        "  num_candidates = f.readline()\n",
        "  print(num_candidates)\n",
        "  f.close()"
      ],
      "execution_count": 7,
      "outputs": []
    },
    {
      "cell_type": "markdown",
      "metadata": {
        "id": "D9nZfKNuvQuw"
      },
      "source": [
        "Given an approval profile matrix, we compute all of the pairwise distances between the preferences of pairs of voters, given a specific distance metric by calling the function for that metric for every pair of voters. These pairwise distances will be stored in a dict where the keys are tuples (v1, v2) identifying the voters and the dict values are the distance between them."
      ]
    },
    {
      "cell_type": "code",
      "metadata": {
        "id": "s9991xtdwOJg"
      },
      "source": [
        "#Takes an approval profile matrix as input and outputs a dict of pairwise distances between all pairs of voters. \n",
        "#Dict keys are tuples of voters and keys are the distances\n",
        "def get_pairwise_distances(profile):\n",
        "  return -1"
      ],
      "execution_count": null,
      "outputs": []
    }
  ]
}